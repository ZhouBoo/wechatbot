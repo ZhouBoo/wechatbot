{
 "metadata": {
  "language_info": {
   "codemirror_mode": {
    "name": "ipython",
    "version": 3
   },
   "file_extension": ".py",
   "mimetype": "text/x-python",
   "name": "python",
   "nbconvert_exporter": "python",
   "pygments_lexer": "ipython3",
   "version": "3.7.8-final"
  },
  "orig_nbformat": 2,
  "kernelspec": {
   "name": "python_defaultSpec_1597496813755",
   "display_name": "Python 3.7.8 64-bit ('3.7.8': pyenv)"
  }
 },
 "nbformat": 4,
 "nbformat_minor": 2,
 "cells": [
  {
   "cell_type": "code",
   "execution_count": 1,
   "metadata": {
    "tags": []
   },
   "outputs": [
    {
     "output_type": "stream",
     "name": "stdout",
     "text": "提示：当前环境pandas版本为0.25，get_price与get_fundamentals_continuously接口panel参数将固定为False\n注意：0.25以上版本pandas不支持panel，如使用该数据结构和相关函数请注意修改\nauth success \n"
    }
   ],
   "source": [
    "from conbond import conbond_data\n",
    "from jqdatasdk import *\n",
    "\n",
    "conbond_data._login()"
   ]
  },
  {
   "cell_type": "code",
   "execution_count": 5,
   "metadata": {},
   "outputs": [
    {
     "output_type": "execute_result",
     "data": {
      "text/plain": "     id    code short_name              full_name  list_status_id list_status  \\\n0  3387  128108       蓝帆转债  蓝帆医疗股份有限公司公开发行可转换公司债券          301001        正常上市   \n\n       issuer company_code issue_start_date issue_end_date  ...  bond_type  \\\n0  蓝帆医疗股份有限公司  002382.XSHE       2020-05-28     2020-05-28  ...        可转债   \n\n   bond_form_id  bond_form   list_date  delist_Date interest_begin_date  \\\n0        704001        记账式  2020-06-19         None          2020-05-28   \n\n  maturity_date interest_date  last_cash_date cash_comment  \n0    2026-05-28         05-28      2026-05-28         None  \n\n[1 rows x 44 columns]",
      "text/html": "<div>\n<style scoped>\n    .dataframe tbody tr th:only-of-type {\n        vertical-align: middle;\n    }\n\n    .dataframe tbody tr th {\n        vertical-align: top;\n    }\n\n    .dataframe thead th {\n        text-align: right;\n    }\n</style>\n<table border=\"1\" class=\"dataframe\">\n  <thead>\n    <tr style=\"text-align: right;\">\n      <th></th>\n      <th>id</th>\n      <th>code</th>\n      <th>short_name</th>\n      <th>full_name</th>\n      <th>list_status_id</th>\n      <th>list_status</th>\n      <th>issuer</th>\n      <th>company_code</th>\n      <th>issue_start_date</th>\n      <th>issue_end_date</th>\n      <th>...</th>\n      <th>bond_type</th>\n      <th>bond_form_id</th>\n      <th>bond_form</th>\n      <th>list_date</th>\n      <th>delist_Date</th>\n      <th>interest_begin_date</th>\n      <th>maturity_date</th>\n      <th>interest_date</th>\n      <th>last_cash_date</th>\n      <th>cash_comment</th>\n    </tr>\n  </thead>\n  <tbody>\n    <tr>\n      <th>0</th>\n      <td>3387</td>\n      <td>128108</td>\n      <td>蓝帆转债</td>\n      <td>蓝帆医疗股份有限公司公开发行可转换公司债券</td>\n      <td>301001</td>\n      <td>正常上市</td>\n      <td>蓝帆医疗股份有限公司</td>\n      <td>002382.XSHE</td>\n      <td>2020-05-28</td>\n      <td>2020-05-28</td>\n      <td>...</td>\n      <td>可转债</td>\n      <td>704001</td>\n      <td>记账式</td>\n      <td>2020-06-19</td>\n      <td>None</td>\n      <td>2020-05-28</td>\n      <td>2026-05-28</td>\n      <td>05-28</td>\n      <td>2026-05-28</td>\n      <td>None</td>\n    </tr>\n  </tbody>\n</table>\n<p>1 rows × 44 columns</p>\n</div>"
     },
     "metadata": {},
     "execution_count": 5
    }
   ],
   "source": [
    "df = conbond_data.conbond_basic_info('128108')\n",
    "df"
   ]
  },
  {
   "cell_type": "code",
   "execution_count": 8,
   "metadata": {},
   "outputs": [
    {
     "output_type": "execute_result",
     "data": {
      "text/plain": "     id    code                   name    pub_date adjust_date  \\\n0  2720  128108  蓝帆医疗股份有限公司公开发行可转换公司债券  2020-05-25  2020-05-25   \n\n   new_convert_price adjust_reason  \n0              17.79         初始转股价  ",
      "text/html": "<div>\n<style scoped>\n    .dataframe tbody tr th:only-of-type {\n        vertical-align: middle;\n    }\n\n    .dataframe tbody tr th {\n        vertical-align: top;\n    }\n\n    .dataframe thead th {\n        text-align: right;\n    }\n</style>\n<table border=\"1\" class=\"dataframe\">\n  <thead>\n    <tr style=\"text-align: right;\">\n      <th></th>\n      <th>id</th>\n      <th>code</th>\n      <th>name</th>\n      <th>pub_date</th>\n      <th>adjust_date</th>\n      <th>new_convert_price</th>\n      <th>adjust_reason</th>\n    </tr>\n  </thead>\n  <tbody>\n    <tr>\n      <th>0</th>\n      <td>2720</td>\n      <td>128108</td>\n      <td>蓝帆医疗股份有限公司公开发行可转换公司债券</td>\n      <td>2020-05-25</td>\n      <td>2020-05-25</td>\n      <td>17.79</td>\n      <td>初始转股价</td>\n    </tr>\n  </tbody>\n</table>\n</div>"
     },
     "metadata": {},
     "execution_count": 8
    }
   ],
   "source": [
    "\n",
    "df = bond.run_query(query(bond.CONBOND_CONVERT_PRICE_ADJUST)\n",
    "                            .filter(bond.CONBOND_CONVERT_PRICE_ADJUST.code == '128108'))\n",
    "df"
   ]
  },
  {
   "cell_type": "code",
   "execution_count": 9,
   "metadata": {},
   "outputs": [
    {
     "output_type": "execute_result",
     "data": {
      "text/plain": "       id        date    code  name exchange_code  pre_close     open  \\\n0  259193  2020-08-12  128108  蓝帆转债          XSHE      167.0  167.167   \n\n      high     low   close  volume         money  deal_number  change_pct  \n0  167.167  154.57  156.68  555010  8.755434e+08        46202     -6.1796  ",
      "text/html": "<div>\n<style scoped>\n    .dataframe tbody tr th:only-of-type {\n        vertical-align: middle;\n    }\n\n    .dataframe tbody tr th {\n        vertical-align: top;\n    }\n\n    .dataframe thead th {\n        text-align: right;\n    }\n</style>\n<table border=\"1\" class=\"dataframe\">\n  <thead>\n    <tr style=\"text-align: right;\">\n      <th></th>\n      <th>id</th>\n      <th>date</th>\n      <th>code</th>\n      <th>name</th>\n      <th>exchange_code</th>\n      <th>pre_close</th>\n      <th>open</th>\n      <th>high</th>\n      <th>low</th>\n      <th>close</th>\n      <th>volume</th>\n      <th>money</th>\n      <th>deal_number</th>\n      <th>change_pct</th>\n    </tr>\n  </thead>\n  <tbody>\n    <tr>\n      <th>0</th>\n      <td>259193</td>\n      <td>2020-08-12</td>\n      <td>128108</td>\n      <td>蓝帆转债</td>\n      <td>XSHE</td>\n      <td>167.0</td>\n      <td>167.167</td>\n      <td>167.167</td>\n      <td>154.57</td>\n      <td>156.68</td>\n      <td>555010</td>\n      <td>8.755434e+08</td>\n      <td>46202</td>\n      <td>-6.1796</td>\n    </tr>\n  </tbody>\n</table>\n</div>"
     },
     "metadata": {},
     "execution_count": 9
    }
   ],
   "source": [
    "# 1. 转股价值\n",
    "# 转股价值 = 100 / 转股价 x 正股现价\n",
    "# 2. 溢价率\n",
    "# 溢价率 =（转债现价 - 转股价值）/ 转股价值\n",
    "\n",
    "df = bond.run_query(query(bond.CONBOND_DAILY_PRICE)\n",
    "                            .filter(bond.CONBOND_DAILY_PRICE.code == 128108,\n",
    "                                    bond.CONBOND_DAILY_PRICE.date == '2020-08-12'))\n",
    "df"
   ]
  },
  {
   "cell_type": "code",
   "execution_count": 3,
   "metadata": {
    "tags": []
   },
   "outputs": [
    {
     "output_type": "stream",
     "name": "stdout",
     "text": "id        date    code  name     open     high      low    close  \\\n0   14  1999-12-30  801010  农林牧渔  1000.00  1000.00  1000.00  1000.00   \n1   53  2000-01-04  801010  农林牧渔  1001.98  1035.36   985.47  1027.66   \n2   87  2000-01-05  801010  农林牧渔  1035.47  1057.85  1013.07  1028.87   \n3  121  2000-01-06  801010  农林牧渔  1025.38  1070.79  1011.00  1065.67   \n4  155  2000-01-07  801010  农林牧渔  1076.06  1117.71  1058.83  1106.19   \n5  189  2000-01-10  801010  农林牧渔  1108.57  1144.09  1082.38  1130.06   \n6  223  2000-01-11  801010  农林牧渔  1135.11  1145.76  1082.01  1104.18   \n7  257  2000-01-12  801010  农林牧渔  1094.59  1114.88  1061.11  1080.40   \n8  291  2000-01-13  801010  农林牧渔  1078.21  1091.29  1051.82  1066.57   \n9  325  2000-01-14  801010  农林牧渔  1070.44  1085.36  1041.54  1062.16   \n\n       volume         money  change_pct  \n0   9864744.0  1.239666e+08        0.00  \n1  14011599.0  1.831998e+08        2.77  \n2  25330869.0  2.904446e+08        0.12  \n3  30202752.0  4.214445e+08        3.58  \n4  64830486.0  8.751578e+08        3.80  \n5  54650994.0  7.690810e+08        2.16  \n6  59380179.0  8.020619e+08       -2.29  \n7  43185026.0  6.022674e+08       -2.15  \n8  26321808.0  3.765015e+08       -1.28  \n9  21145507.0  3.025579e+08       -0.41  \n"
    }
   ],
   "source": [
    "get_money_flow(security_list, start_date='2020-08-14', end_date='2020-08-14', fields=None, count=None)"
   ]
  },
  {
   "cell_type": "code",
   "execution_count": 6,
   "metadata": {},
   "outputs": [
    {
     "output_type": "execute_result",
     "data": {
      "text/plain": "         id        date    code   name      open      high       low  \\\n0   1882936  2020-08-14  801130   纺织服装   1904.75   1919.41   1893.35   \n1   1882937  2020-08-14  801720   建筑装饰   2205.49   2218.41   2186.52   \n2   1882938  2020-08-14  801150   医药生物  12091.69  12227.82  11923.43   \n3   1882939  2020-08-14  801110   家用电器   8445.02   8629.12   8445.02   \n4   1882940  2020-08-14  801080  电子元器件   4672.19   4769.26   4672.19   \n5   1882941  2020-08-14  801760     传媒    836.53    849.09    835.37   \n6   1882942  2020-08-14  801740   国防军工   1659.91   1731.45   1659.91   \n7   1882943  2020-08-14  801210   餐饮旅游  10083.75  10288.81  10022.38   \n8   1882944  2020-08-14  801040     钢铁   2065.71   2069.80   2042.72   \n9   1882945  2020-08-14  801170   交通运输   2375.60   2396.26   2363.87   \n10  1882946  2020-08-14  801230     综合   2593.47   2596.88   2549.82   \n11  1882947  2020-08-14  801020     采掘   2325.89   2336.32   2303.14   \n12  1882948  2020-08-14  801790   非银金融   2180.04   2238.72   2180.04   \n13  1882949  2020-08-14  801880     汽车   4636.99   4677.05   4582.13   \n14  1882950  2020-08-14  801120   食品饮料  21930.15  22399.06  21912.83   \n15  1882951  2020-08-14  801730   电气设备   6185.43   6250.65   6133.62   \n16  1882952  2020-08-14  801200   商业贸易   4077.87   4108.29   4048.94   \n17  1882953  2020-08-14  801030     化工   3322.80   3347.11   3293.76   \n18  1882954  2020-08-14  801180    房地产   4308.06   4363.88   4282.20   \n19  1882955  2020-08-14  801750    计算机   5858.89   5984.91   5858.89   \n20  1882956  2020-08-14  801010   农林牧渔   4679.35   4680.80   4603.72   \n21  1882957  2020-08-14  801140   轻工制造   2681.10   2714.50   2673.96   \n22  1882958  2020-08-14  801710   建筑材料   8315.78   8407.13   8251.77   \n23  1882959  2020-08-14  801050   有色金属   3431.93   3463.18   3395.79   \n24  1882960  2020-08-14  801160   公用事业   2055.77   2070.24   2041.39   \n25  1882961  2020-08-14  801770     通信   2517.81   2548.82   2514.61   \n26  1882962  2020-08-14  801780     银行   3434.56   3487.17   3434.49   \n27  1882963  2020-08-14  801890   机械设备   1398.59   1411.15   1386.66   \n\n       close        volume         money  change_pct  \n0    1919.11  7.148204e+08  4.833824e+09        0.57  \n1    2218.13  2.081936e+09  1.469410e+10        0.61  \n2   12175.98  3.389526e+09  8.521663e+10        0.61  \n3    8629.12  9.448538e+08  1.134759e+10        2.05  \n4    4766.19  5.416148e+09  9.006931e+10        1.60  \n5     848.73  2.964493e+09  2.665699e+10        1.36  \n6    1720.05  2.147971e+09  4.316783e+10        3.17  \n7   10250.12  3.691943e+08  6.257406e+09        0.59  \n8    2067.17  1.072479e+09  3.634846e+09       -0.05  \n9    2395.27  2.357189e+09  1.895475e+10        0.64  \n10   2593.45  4.895968e+08  3.620766e+09       -0.13  \n11   2334.29  1.800825e+09  7.154044e+09       -0.06  \n12   2234.98  3.725555e+09  5.828651e+10        1.98  \n13   4674.33  3.701476e+09  3.102402e+10        0.73  \n14  22376.67  1.089658e+09  3.837420e+10        2.15  \n15   6250.65  4.235830e+09  4.204286e+10        1.12  \n16   4102.66  1.512971e+09  1.243469e+10        0.43  \n17   3345.66  5.920026e+09  5.476271e+10        0.63  \n18   4362.76  2.586987e+09  2.118892e+10        0.73  \n19   5984.51  2.866782e+09  4.895015e+10        2.07  \n20   4668.46  3.468539e+09  4.182587e+10       -0.12  \n21   2714.50  1.456952e+09  1.418103e+10        0.99  \n22   8401.90  1.061291e+09  1.619428e+10        0.89  \n23   3445.25  3.063212e+09  3.038384e+10        0.56  \n24   2070.11  2.721134e+09  1.590350e+10        0.47  \n25   2548.56  1.356677e+09  1.650890e+10        1.10  \n26   3485.62  2.384364e+09  1.923686e+10        1.50  \n27   1411.15  3.948927e+09  4.003239e+10        0.68  ",
      "text/html": "<div>\n<style scoped>\n    .dataframe tbody tr th:only-of-type {\n        vertical-align: middle;\n    }\n\n    .dataframe tbody tr th {\n        vertical-align: top;\n    }\n\n    .dataframe thead th {\n        text-align: right;\n    }\n</style>\n<table border=\"1\" class=\"dataframe\">\n  <thead>\n    <tr style=\"text-align: right;\">\n      <th></th>\n      <th>id</th>\n      <th>date</th>\n      <th>code</th>\n      <th>name</th>\n      <th>open</th>\n      <th>high</th>\n      <th>low</th>\n      <th>close</th>\n      <th>volume</th>\n      <th>money</th>\n      <th>change_pct</th>\n    </tr>\n  </thead>\n  <tbody>\n    <tr>\n      <th>0</th>\n      <td>1882936</td>\n      <td>2020-08-14</td>\n      <td>801130</td>\n      <td>纺织服装</td>\n      <td>1904.75</td>\n      <td>1919.41</td>\n      <td>1893.35</td>\n      <td>1919.11</td>\n      <td>7.148204e+08</td>\n      <td>4.833824e+09</td>\n      <td>0.57</td>\n    </tr>\n    <tr>\n      <th>1</th>\n      <td>1882937</td>\n      <td>2020-08-14</td>\n      <td>801720</td>\n      <td>建筑装饰</td>\n      <td>2205.49</td>\n      <td>2218.41</td>\n      <td>2186.52</td>\n      <td>2218.13</td>\n      <td>2.081936e+09</td>\n      <td>1.469410e+10</td>\n      <td>0.61</td>\n    </tr>\n    <tr>\n      <th>2</th>\n      <td>1882938</td>\n      <td>2020-08-14</td>\n      <td>801150</td>\n      <td>医药生物</td>\n      <td>12091.69</td>\n      <td>12227.82</td>\n      <td>11923.43</td>\n      <td>12175.98</td>\n      <td>3.389526e+09</td>\n      <td>8.521663e+10</td>\n      <td>0.61</td>\n    </tr>\n    <tr>\n      <th>3</th>\n      <td>1882939</td>\n      <td>2020-08-14</td>\n      <td>801110</td>\n      <td>家用电器</td>\n      <td>8445.02</td>\n      <td>8629.12</td>\n      <td>8445.02</td>\n      <td>8629.12</td>\n      <td>9.448538e+08</td>\n      <td>1.134759e+10</td>\n      <td>2.05</td>\n    </tr>\n    <tr>\n      <th>4</th>\n      <td>1882940</td>\n      <td>2020-08-14</td>\n      <td>801080</td>\n      <td>电子元器件</td>\n      <td>4672.19</td>\n      <td>4769.26</td>\n      <td>4672.19</td>\n      <td>4766.19</td>\n      <td>5.416148e+09</td>\n      <td>9.006931e+10</td>\n      <td>1.60</td>\n    </tr>\n    <tr>\n      <th>5</th>\n      <td>1882941</td>\n      <td>2020-08-14</td>\n      <td>801760</td>\n      <td>传媒</td>\n      <td>836.53</td>\n      <td>849.09</td>\n      <td>835.37</td>\n      <td>848.73</td>\n      <td>2.964493e+09</td>\n      <td>2.665699e+10</td>\n      <td>1.36</td>\n    </tr>\n    <tr>\n      <th>6</th>\n      <td>1882942</td>\n      <td>2020-08-14</td>\n      <td>801740</td>\n      <td>国防军工</td>\n      <td>1659.91</td>\n      <td>1731.45</td>\n      <td>1659.91</td>\n      <td>1720.05</td>\n      <td>2.147971e+09</td>\n      <td>4.316783e+10</td>\n      <td>3.17</td>\n    </tr>\n    <tr>\n      <th>7</th>\n      <td>1882943</td>\n      <td>2020-08-14</td>\n      <td>801210</td>\n      <td>餐饮旅游</td>\n      <td>10083.75</td>\n      <td>10288.81</td>\n      <td>10022.38</td>\n      <td>10250.12</td>\n      <td>3.691943e+08</td>\n      <td>6.257406e+09</td>\n      <td>0.59</td>\n    </tr>\n    <tr>\n      <th>8</th>\n      <td>1882944</td>\n      <td>2020-08-14</td>\n      <td>801040</td>\n      <td>钢铁</td>\n      <td>2065.71</td>\n      <td>2069.80</td>\n      <td>2042.72</td>\n      <td>2067.17</td>\n      <td>1.072479e+09</td>\n      <td>3.634846e+09</td>\n      <td>-0.05</td>\n    </tr>\n    <tr>\n      <th>9</th>\n      <td>1882945</td>\n      <td>2020-08-14</td>\n      <td>801170</td>\n      <td>交通运输</td>\n      <td>2375.60</td>\n      <td>2396.26</td>\n      <td>2363.87</td>\n      <td>2395.27</td>\n      <td>2.357189e+09</td>\n      <td>1.895475e+10</td>\n      <td>0.64</td>\n    </tr>\n    <tr>\n      <th>10</th>\n      <td>1882946</td>\n      <td>2020-08-14</td>\n      <td>801230</td>\n      <td>综合</td>\n      <td>2593.47</td>\n      <td>2596.88</td>\n      <td>2549.82</td>\n      <td>2593.45</td>\n      <td>4.895968e+08</td>\n      <td>3.620766e+09</td>\n      <td>-0.13</td>\n    </tr>\n    <tr>\n      <th>11</th>\n      <td>1882947</td>\n      <td>2020-08-14</td>\n      <td>801020</td>\n      <td>采掘</td>\n      <td>2325.89</td>\n      <td>2336.32</td>\n      <td>2303.14</td>\n      <td>2334.29</td>\n      <td>1.800825e+09</td>\n      <td>7.154044e+09</td>\n      <td>-0.06</td>\n    </tr>\n    <tr>\n      <th>12</th>\n      <td>1882948</td>\n      <td>2020-08-14</td>\n      <td>801790</td>\n      <td>非银金融</td>\n      <td>2180.04</td>\n      <td>2238.72</td>\n      <td>2180.04</td>\n      <td>2234.98</td>\n      <td>3.725555e+09</td>\n      <td>5.828651e+10</td>\n      <td>1.98</td>\n    </tr>\n    <tr>\n      <th>13</th>\n      <td>1882949</td>\n      <td>2020-08-14</td>\n      <td>801880</td>\n      <td>汽车</td>\n      <td>4636.99</td>\n      <td>4677.05</td>\n      <td>4582.13</td>\n      <td>4674.33</td>\n      <td>3.701476e+09</td>\n      <td>3.102402e+10</td>\n      <td>0.73</td>\n    </tr>\n    <tr>\n      <th>14</th>\n      <td>1882950</td>\n      <td>2020-08-14</td>\n      <td>801120</td>\n      <td>食品饮料</td>\n      <td>21930.15</td>\n      <td>22399.06</td>\n      <td>21912.83</td>\n      <td>22376.67</td>\n      <td>1.089658e+09</td>\n      <td>3.837420e+10</td>\n      <td>2.15</td>\n    </tr>\n    <tr>\n      <th>15</th>\n      <td>1882951</td>\n      <td>2020-08-14</td>\n      <td>801730</td>\n      <td>电气设备</td>\n      <td>6185.43</td>\n      <td>6250.65</td>\n      <td>6133.62</td>\n      <td>6250.65</td>\n      <td>4.235830e+09</td>\n      <td>4.204286e+10</td>\n      <td>1.12</td>\n    </tr>\n    <tr>\n      <th>16</th>\n      <td>1882952</td>\n      <td>2020-08-14</td>\n      <td>801200</td>\n      <td>商业贸易</td>\n      <td>4077.87</td>\n      <td>4108.29</td>\n      <td>4048.94</td>\n      <td>4102.66</td>\n      <td>1.512971e+09</td>\n      <td>1.243469e+10</td>\n      <td>0.43</td>\n    </tr>\n    <tr>\n      <th>17</th>\n      <td>1882953</td>\n      <td>2020-08-14</td>\n      <td>801030</td>\n      <td>化工</td>\n      <td>3322.80</td>\n      <td>3347.11</td>\n      <td>3293.76</td>\n      <td>3345.66</td>\n      <td>5.920026e+09</td>\n      <td>5.476271e+10</td>\n      <td>0.63</td>\n    </tr>\n    <tr>\n      <th>18</th>\n      <td>1882954</td>\n      <td>2020-08-14</td>\n      <td>801180</td>\n      <td>房地产</td>\n      <td>4308.06</td>\n      <td>4363.88</td>\n      <td>4282.20</td>\n      <td>4362.76</td>\n      <td>2.586987e+09</td>\n      <td>2.118892e+10</td>\n      <td>0.73</td>\n    </tr>\n    <tr>\n      <th>19</th>\n      <td>1882955</td>\n      <td>2020-08-14</td>\n      <td>801750</td>\n      <td>计算机</td>\n      <td>5858.89</td>\n      <td>5984.91</td>\n      <td>5858.89</td>\n      <td>5984.51</td>\n      <td>2.866782e+09</td>\n      <td>4.895015e+10</td>\n      <td>2.07</td>\n    </tr>\n    <tr>\n      <th>20</th>\n      <td>1882956</td>\n      <td>2020-08-14</td>\n      <td>801010</td>\n      <td>农林牧渔</td>\n      <td>4679.35</td>\n      <td>4680.80</td>\n      <td>4603.72</td>\n      <td>4668.46</td>\n      <td>3.468539e+09</td>\n      <td>4.182587e+10</td>\n      <td>-0.12</td>\n    </tr>\n    <tr>\n      <th>21</th>\n      <td>1882957</td>\n      <td>2020-08-14</td>\n      <td>801140</td>\n      <td>轻工制造</td>\n      <td>2681.10</td>\n      <td>2714.50</td>\n      <td>2673.96</td>\n      <td>2714.50</td>\n      <td>1.456952e+09</td>\n      <td>1.418103e+10</td>\n      <td>0.99</td>\n    </tr>\n    <tr>\n      <th>22</th>\n      <td>1882958</td>\n      <td>2020-08-14</td>\n      <td>801710</td>\n      <td>建筑材料</td>\n      <td>8315.78</td>\n      <td>8407.13</td>\n      <td>8251.77</td>\n      <td>8401.90</td>\n      <td>1.061291e+09</td>\n      <td>1.619428e+10</td>\n      <td>0.89</td>\n    </tr>\n    <tr>\n      <th>23</th>\n      <td>1882959</td>\n      <td>2020-08-14</td>\n      <td>801050</td>\n      <td>有色金属</td>\n      <td>3431.93</td>\n      <td>3463.18</td>\n      <td>3395.79</td>\n      <td>3445.25</td>\n      <td>3.063212e+09</td>\n      <td>3.038384e+10</td>\n      <td>0.56</td>\n    </tr>\n    <tr>\n      <th>24</th>\n      <td>1882960</td>\n      <td>2020-08-14</td>\n      <td>801160</td>\n      <td>公用事业</td>\n      <td>2055.77</td>\n      <td>2070.24</td>\n      <td>2041.39</td>\n      <td>2070.11</td>\n      <td>2.721134e+09</td>\n      <td>1.590350e+10</td>\n      <td>0.47</td>\n    </tr>\n    <tr>\n      <th>25</th>\n      <td>1882961</td>\n      <td>2020-08-14</td>\n      <td>801770</td>\n      <td>通信</td>\n      <td>2517.81</td>\n      <td>2548.82</td>\n      <td>2514.61</td>\n      <td>2548.56</td>\n      <td>1.356677e+09</td>\n      <td>1.650890e+10</td>\n      <td>1.10</td>\n    </tr>\n    <tr>\n      <th>26</th>\n      <td>1882962</td>\n      <td>2020-08-14</td>\n      <td>801780</td>\n      <td>银行</td>\n      <td>3434.56</td>\n      <td>3487.17</td>\n      <td>3434.49</td>\n      <td>3485.62</td>\n      <td>2.384364e+09</td>\n      <td>1.923686e+10</td>\n      <td>1.50</td>\n    </tr>\n    <tr>\n      <th>27</th>\n      <td>1882963</td>\n      <td>2020-08-14</td>\n      <td>801890</td>\n      <td>机械设备</td>\n      <td>1398.59</td>\n      <td>1411.15</td>\n      <td>1386.66</td>\n      <td>1411.15</td>\n      <td>3.948927e+09</td>\n      <td>4.003239e+10</td>\n      <td>0.68</td>\n    </tr>\n  </tbody>\n</table>\n</div>"
     },
     "metadata": {},
     "execution_count": 6
    }
   ],
   "source": [
    "df=finance.run_query(query(finance.SW1_DAILY_PRICE).filter(finance.SW1_DAILY_PRICE.date=='2020-08-14'))\n",
    "df"
   ]
  }
 ]
}